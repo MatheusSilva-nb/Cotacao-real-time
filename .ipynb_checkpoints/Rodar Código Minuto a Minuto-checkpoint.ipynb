{
 "cells": [
  {
   "cell_type": "code",
   "execution_count": null,
   "id": "edfb0e68",
   "metadata": {},
   "outputs": [
    {
     "name": "stdout",
     "output_type": "stream",
     "text": [
      "Cotação Atualizada. 2021-09-20 22:38:27.965196\n"
     ]
    },
    {
     "data": {
      "text/html": [
       "<div>\n",
       "<style scoped>\n",
       "    .dataframe tbody tr th:only-of-type {\n",
       "        vertical-align: middle;\n",
       "    }\n",
       "\n",
       "    .dataframe tbody tr th {\n",
       "        vertical-align: top;\n",
       "    }\n",
       "\n",
       "    .dataframe thead th {\n",
       "        text-align: right;\n",
       "    }\n",
       "</style>\n",
       "<table border=\"1\" class=\"dataframe\">\n",
       "  <thead>\n",
       "    <tr style=\"text-align: right;\">\n",
       "      <th></th>\n",
       "      <th>Moeda</th>\n",
       "      <th>Cotação</th>\n",
       "      <th>Data Última Atualização</th>\n",
       "    </tr>\n",
       "  </thead>\n",
       "  <tbody>\n",
       "    <tr>\n",
       "      <th>0</th>\n",
       "      <td>Dólar</td>\n",
       "      <td>5.324800e+00</td>\n",
       "      <td>2021-09-20 22:38:27.942</td>\n",
       "    </tr>\n",
       "    <tr>\n",
       "      <th>1</th>\n",
       "      <td>Euro</td>\n",
       "      <td>6.243900e+00</td>\n",
       "      <td>NaT</td>\n",
       "    </tr>\n",
       "    <tr>\n",
       "      <th>2</th>\n",
       "      <td>BTC</td>\n",
       "      <td>1.739472e+08</td>\n",
       "      <td>NaT</td>\n",
       "    </tr>\n",
       "  </tbody>\n",
       "</table>\n",
       "</div>"
      ],
      "text/plain": [
       "   Moeda       Cotação Data Última Atualização\n",
       "0  Dólar  5.324800e+00 2021-09-20 22:38:27.942\n",
       "1   Euro  6.243900e+00                     NaT\n",
       "2    BTC  1.739472e+08                     NaT"
      ]
     },
     "metadata": {},
     "output_type": "display_data"
    }
   ],
   "source": [
    "import requests\n",
    "import pandas as pd\n",
    "from datetime import datetime\n",
    "import time\n",
    "\n",
    "while True:\n",
    "    requisicao = requests.get(\"https://economia.awesomeapi.com.br/last/USD-BRL,EUR-BRL,BTC-BRL\")\n",
    "    requisicao_dic = requisicao.json()\n",
    "\n",
    "    cotacao_dolar = requisicao_dic[\"USDBRL\"][\"bid\"]\n",
    "    cotacao_euro = requisicao_dic[\"EURBRL\"][\"bid\"]\n",
    "    cotacao_btc = requisicao_dic[\"BTCBRL\"][\"bid\"]\n",
    "\n",
    "    tabela = pd.read_excel(\"Cotações.xlsx\")\n",
    "    tabela.loc[0, \"Cotação\"] = float(cotacao_dolar)\n",
    "    tabela.loc[1, \"Cotação\"] = float(cotacao_euro)\n",
    "    tabela.loc[2, \"Cotação\"] = float(cotacao_btc) * 1000\n",
    "    tabela.loc[0, \"Data Última Atualização\"] = datetime.now()\n",
    "\n",
    "    tabela.to_excel(\"Cotações.xlsx\", index=False)\n",
    "    print(f\"Cotação Atualizada. {datetime.now()}\")\n",
    "    \n",
    "\n",
    "    tabela = pd.read_excel('Cotações.xlsx')\n",
    "    display(tabela)\n",
    "    \n",
    "    time.sleep(60)\n",
    "    "
   ]
  },
  {
   "cell_type": "code",
   "execution_count": null,
   "id": "8569a7fa",
   "metadata": {},
   "outputs": [],
   "source": []
  }
 ],
 "metadata": {
  "kernelspec": {
   "display_name": "Python 3",
   "language": "python",
   "name": "python3"
  },
  "language_info": {
   "codemirror_mode": {
    "name": "ipython",
    "version": 3
   },
   "file_extension": ".py",
   "mimetype": "text/x-python",
   "name": "python",
   "nbconvert_exporter": "python",
   "pygments_lexer": "ipython3",
   "version": "3.8.8"
  }
 },
 "nbformat": 4,
 "nbformat_minor": 5
}
